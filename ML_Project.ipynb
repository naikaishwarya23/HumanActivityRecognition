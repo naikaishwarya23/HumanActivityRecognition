{
  "nbformat": 4,
  "nbformat_minor": 0,
  "metadata": {
    "colab": {
      "provenance": [],
      "gpuType": "T4",
      "toc_visible": true
    },
    "kernelspec": {
      "name": "python3",
      "display_name": "Python 3"
    },
    "language_info": {
      "name": "python"
    },
    "accelerator": "GPU"
  },
  "cells": [
    {
      "cell_type": "code",
      "source": [
        "pip install --upgrade tensorflow"
      ],
      "metadata": {
        "colab": {
          "base_uri": "https://localhost:8080/",
          "height": 1000
        },
        "id": "WJduB_9pQeFg",
        "outputId": "d932700f-c64f-4f0b-dcba-714bbe8346ac"
      },
      "execution_count": 4,
      "outputs": [
        {
          "output_type": "stream",
          "name": "stdout",
          "text": [
            "Requirement already satisfied: tensorflow in /usr/local/lib/python3.10/dist-packages (2.17.1)\n",
            "Collecting tensorflow\n",
            "  Downloading tensorflow-2.18.0-cp310-cp310-manylinux_2_17_x86_64.manylinux2014_x86_64.whl.metadata (4.1 kB)\n",
            "Requirement already satisfied: absl-py>=1.0.0 in /usr/local/lib/python3.10/dist-packages (from tensorflow) (1.4.0)\n",
            "Requirement already satisfied: astunparse>=1.6.0 in /usr/local/lib/python3.10/dist-packages (from tensorflow) (1.6.3)\n",
            "Requirement already satisfied: flatbuffers>=24.3.25 in /usr/local/lib/python3.10/dist-packages (from tensorflow) (24.3.25)\n",
            "Requirement already satisfied: gast!=0.5.0,!=0.5.1,!=0.5.2,>=0.2.1 in /usr/local/lib/python3.10/dist-packages (from tensorflow) (0.6.0)\n",
            "Requirement already satisfied: google-pasta>=0.1.1 in /usr/local/lib/python3.10/dist-packages (from tensorflow) (0.2.0)\n",
            "Requirement already satisfied: libclang>=13.0.0 in /usr/local/lib/python3.10/dist-packages (from tensorflow) (18.1.1)\n",
            "Requirement already satisfied: opt-einsum>=2.3.2 in /usr/local/lib/python3.10/dist-packages (from tensorflow) (3.4.0)\n",
            "Requirement already satisfied: packaging in /usr/local/lib/python3.10/dist-packages (from tensorflow) (24.2)\n",
            "Requirement already satisfied: protobuf!=4.21.0,!=4.21.1,!=4.21.2,!=4.21.3,!=4.21.4,!=4.21.5,<6.0.0dev,>=3.20.3 in /usr/local/lib/python3.10/dist-packages (from tensorflow) (4.25.5)\n",
            "Requirement already satisfied: requests<3,>=2.21.0 in /usr/local/lib/python3.10/dist-packages (from tensorflow) (2.32.3)\n",
            "Requirement already satisfied: setuptools in /usr/local/lib/python3.10/dist-packages (from tensorflow) (75.1.0)\n",
            "Requirement already satisfied: six>=1.12.0 in /usr/local/lib/python3.10/dist-packages (from tensorflow) (1.16.0)\n",
            "Requirement already satisfied: termcolor>=1.1.0 in /usr/local/lib/python3.10/dist-packages (from tensorflow) (2.5.0)\n",
            "Requirement already satisfied: typing-extensions>=3.6.6 in /usr/local/lib/python3.10/dist-packages (from tensorflow) (4.12.2)\n",
            "Requirement already satisfied: wrapt>=1.11.0 in /usr/local/lib/python3.10/dist-packages (from tensorflow) (1.17.0)\n",
            "Requirement already satisfied: grpcio<2.0,>=1.24.3 in /usr/local/lib/python3.10/dist-packages (from tensorflow) (1.68.1)\n",
            "Collecting tensorboard<2.19,>=2.18 (from tensorflow)\n",
            "  Downloading tensorboard-2.18.0-py3-none-any.whl.metadata (1.6 kB)\n",
            "Requirement already satisfied: keras>=3.5.0 in /usr/local/lib/python3.10/dist-packages (from tensorflow) (3.5.0)\n",
            "Requirement already satisfied: numpy<2.1.0,>=1.26.0 in /usr/local/lib/python3.10/dist-packages (from tensorflow) (1.26.4)\n",
            "Requirement already satisfied: h5py>=3.11.0 in /usr/local/lib/python3.10/dist-packages (from tensorflow) (3.12.1)\n",
            "Requirement already satisfied: ml-dtypes<0.5.0,>=0.4.0 in /usr/local/lib/python3.10/dist-packages (from tensorflow) (0.4.1)\n",
            "Requirement already satisfied: tensorflow-io-gcs-filesystem>=0.23.1 in /usr/local/lib/python3.10/dist-packages (from tensorflow) (0.37.1)\n",
            "Requirement already satisfied: wheel<1.0,>=0.23.0 in /usr/local/lib/python3.10/dist-packages (from astunparse>=1.6.0->tensorflow) (0.45.1)\n",
            "Requirement already satisfied: rich in /usr/local/lib/python3.10/dist-packages (from keras>=3.5.0->tensorflow) (13.9.4)\n",
            "Requirement already satisfied: namex in /usr/local/lib/python3.10/dist-packages (from keras>=3.5.0->tensorflow) (0.0.8)\n",
            "Requirement already satisfied: optree in /usr/local/lib/python3.10/dist-packages (from keras>=3.5.0->tensorflow) (0.13.1)\n",
            "Requirement already satisfied: charset-normalizer<4,>=2 in /usr/local/lib/python3.10/dist-packages (from requests<3,>=2.21.0->tensorflow) (3.4.0)\n",
            "Requirement already satisfied: idna<4,>=2.5 in /usr/local/lib/python3.10/dist-packages (from requests<3,>=2.21.0->tensorflow) (3.10)\n",
            "Requirement already satisfied: urllib3<3,>=1.21.1 in /usr/local/lib/python3.10/dist-packages (from requests<3,>=2.21.0->tensorflow) (2.2.3)\n",
            "Requirement already satisfied: certifi>=2017.4.17 in /usr/local/lib/python3.10/dist-packages (from requests<3,>=2.21.0->tensorflow) (2024.8.30)\n",
            "Requirement already satisfied: markdown>=2.6.8 in /usr/local/lib/python3.10/dist-packages (from tensorboard<2.19,>=2.18->tensorflow) (3.7)\n",
            "Requirement already satisfied: tensorboard-data-server<0.8.0,>=0.7.0 in /usr/local/lib/python3.10/dist-packages (from tensorboard<2.19,>=2.18->tensorflow) (0.7.2)\n",
            "Requirement already satisfied: werkzeug>=1.0.1 in /usr/local/lib/python3.10/dist-packages (from tensorboard<2.19,>=2.18->tensorflow) (3.1.3)\n",
            "Requirement already satisfied: MarkupSafe>=2.1.1 in /usr/local/lib/python3.10/dist-packages (from werkzeug>=1.0.1->tensorboard<2.19,>=2.18->tensorflow) (3.0.2)\n",
            "Requirement already satisfied: markdown-it-py>=2.2.0 in /usr/local/lib/python3.10/dist-packages (from rich->keras>=3.5.0->tensorflow) (3.0.0)\n",
            "Requirement already satisfied: pygments<3.0.0,>=2.13.0 in /usr/local/lib/python3.10/dist-packages (from rich->keras>=3.5.0->tensorflow) (2.18.0)\n",
            "Requirement already satisfied: mdurl~=0.1 in /usr/local/lib/python3.10/dist-packages (from markdown-it-py>=2.2.0->rich->keras>=3.5.0->tensorflow) (0.1.2)\n",
            "Downloading tensorflow-2.18.0-cp310-cp310-manylinux_2_17_x86_64.manylinux2014_x86_64.whl (615.3 MB)\n",
            "\u001b[2K   \u001b[90m━━━━━━━━━━━━━━━━━━━━━━━━━━━━━━━━━━━━━━━━\u001b[0m \u001b[32m615.3/615.3 MB\u001b[0m \u001b[31m1.5 MB/s\u001b[0m eta \u001b[36m0:00:00\u001b[0m\n",
            "\u001b[?25hDownloading tensorboard-2.18.0-py3-none-any.whl (5.5 MB)\n",
            "\u001b[2K   \u001b[90m━━━━━━━━━━━━━━━━━━━━━━━━━━━━━━━━━━━━━━━━\u001b[0m \u001b[32m5.5/5.5 MB\u001b[0m \u001b[31m27.6 MB/s\u001b[0m eta \u001b[36m0:00:00\u001b[0m\n",
            "\u001b[?25hInstalling collected packages: tensorboard, tensorflow\n",
            "  Attempting uninstall: tensorboard\n",
            "    Found existing installation: tensorboard 2.17.1\n",
            "    Uninstalling tensorboard-2.17.1:\n",
            "      Successfully uninstalled tensorboard-2.17.1\n",
            "  Attempting uninstall: tensorflow\n",
            "    Found existing installation: tensorflow 2.17.1\n",
            "    Uninstalling tensorflow-2.17.1:\n",
            "      Successfully uninstalled tensorflow-2.17.1\n",
            "\u001b[31mERROR: pip's dependency resolver does not currently take into account all the packages that are installed. This behaviour is the source of the following dependency conflicts.\n",
            "tf-keras 2.17.0 requires tensorflow<2.18,>=2.17, but you have tensorflow 2.18.0 which is incompatible.\u001b[0m\u001b[31m\n",
            "\u001b[0mSuccessfully installed tensorboard-2.18.0 tensorflow-2.18.0\n"
          ]
        },
        {
          "output_type": "display_data",
          "data": {
            "application/vnd.colab-display-data+json": {
              "pip_warning": {
                "packages": [
                  "tensorflow"
                ]
              },
              "id": "b6619731779e483892e090c640019689"
            }
          },
          "metadata": {}
        }
      ]
    },
    {
      "cell_type": "code",
      "source": [
        "!pip install -q -U keras-tuner"
      ],
      "metadata": {
        "id": "Ag2Hkb4CSY8u"
      },
      "execution_count": 1,
      "outputs": []
    },
    {
      "cell_type": "code",
      "execution_count": 2,
      "metadata": {
        "colab": {
          "base_uri": "https://localhost:8080/"
        },
        "id": "8YbfxEpQfKtI",
        "outputId": "e7ec3d48-ab80-47d0-c4a9-410cab418c8c"
      },
      "outputs": [
        {
          "output_type": "stream",
          "name": "stderr",
          "text": [
            "<ipython-input-2-fa7843284402>:13: DeprecationWarning: `import kerastuner` is deprecated, please use `import keras_tuner`.\n",
            "  from kerastuner.tuners import RandomSearch\n"
          ]
        }
      ],
      "source": [
        "import numpy as np\n",
        "import pandas as pd\n",
        "import matplotlib.pyplot as plt\n",
        "import seaborn as sns\n",
        "import numpy as np # linear algebra\n",
        "import pandas as pd # data processing, CSV file I/O (e.g. pd.read_csv)\n",
        "from sklearn.preprocessing import MinMaxScaler\n",
        "from sklearn.preprocessing import LabelEncoder\n",
        "import matplotlib.pyplot as plt\n",
        "import seaborn as sns\n",
        "from keras.models import Sequential\n",
        "from keras.layers import Dense,Dropout\n",
        "from kerastuner.tuners import RandomSearch\n",
        "from kerastuner.engine.hyperparameters import HyperParameters\n",
        "import os\n",
        "import warnings\n",
        "from tensorflow import keras\n",
        "from tensorflow.keras import layers\n",
        "from kerastuner.tuners import RandomSearch\n",
        "warnings.filterwarnings('ignore')\n",
        "import random\n",
        "import tensorflow as tf\n",
        "from tensorflow.keras.models import Sequential\n",
        "from tensorflow.keras.layers import Dense, Dropout\n",
        "from tensorflow.keras.utils import to_categorical\n",
        "from tensorflow.keras.callbacks import EarlyStopping\n",
        "import matplotlib.pyplot as plt\n",
        "from sklearn.preprocessing import MinMaxScaler\n",
        "from sklearn.preprocessing import LabelEncoder\n",
        "from sklearn.ensemble import VotingClassifier\n",
        "from sklearn.ensemble import RandomForestClassifier\n",
        "from sklearn.linear_model import LogisticRegression\n",
        "from sklearn.svm import SVC\n",
        "from sklearn.metrics import accuracy_score, precision_score, recall_score, f1_score, classification_report, confusion_matrix\n",
        "from sklearn.model_selection import GridSearchCV\n",
        "import numpy as np\n",
        "from sklearn.metrics import precision_score, recall_score, f1_score\n",
        "import seaborn as sns\n",
        "import pandas as pd\n"
      ]
    },
    {
      "cell_type": "code",
      "source": [
        "from google.colab import files\n",
        "# uploaded = files.upload()"
      ],
      "metadata": {
        "id": "vhK3CbVqfNDO"
      },
      "execution_count": 3,
      "outputs": []
    },
    {
      "cell_type": "code",
      "source": [
        "import pandas as pd\n",
        "import numpy as np\n",
        "\n",
        "# Load the dataset\n",
        "train_data = pd.read_csv(\"https://adg6610.uta.cloud/dataset/ml_dataset/train.csv\")\n",
        "test_data = pd.read_csv(\"https://adg6610.uta.cloud/dataset/ml_dataset/test.csv\")\n",
        "\n",
        "# Step 1: Inspect Data\n",
        "print(\"Training Data Info:\")\n",
        "print(train_data.info())\n",
        "print(\"\\nTest Data Info:\")\n",
        "print(test_data.info())\n",
        "\n",
        "\n"
      ],
      "metadata": {
        "colab": {
          "base_uri": "https://localhost:8080/"
        },
        "id": "Gp_oQQW0hFMa",
        "outputId": "b395ab6d-fcea-4b7b-f249-b53fcd2502a9"
      },
      "execution_count": 4,
      "outputs": [
        {
          "output_type": "stream",
          "name": "stdout",
          "text": [
            "Training Data Info:\n",
            "<class 'pandas.core.frame.DataFrame'>\n",
            "RangeIndex: 7352 entries, 0 to 7351\n",
            "Columns: 563 entries, tBodyAcc-mean()-X to Activity\n",
            "dtypes: float64(561), int64(1), object(1)\n",
            "memory usage: 31.6+ MB\n",
            "None\n",
            "\n",
            "Test Data Info:\n",
            "<class 'pandas.core.frame.DataFrame'>\n",
            "RangeIndex: 2947 entries, 0 to 2946\n",
            "Columns: 563 entries, tBodyAcc-mean()-X to Activity\n",
            "dtypes: float64(561), int64(1), object(1)\n",
            "memory usage: 12.7+ MB\n",
            "None\n"
          ]
        }
      ]
    },
    {
      "cell_type": "code",
      "source": [
        "print(\"\\nTraining Data Summary:\")\n",
        "print(train_data.describe())"
      ],
      "metadata": {
        "colab": {
          "base_uri": "https://localhost:8080/"
        },
        "id": "iGvdikUXh34i",
        "outputId": "33db6366-7c8b-403f-d2da-129079e34017"
      },
      "execution_count": 5,
      "outputs": [
        {
          "output_type": "stream",
          "name": "stdout",
          "text": [
            "\n",
            "Training Data Summary:\n",
            "       tBodyAcc-mean()-X  tBodyAcc-mean()-Y  tBodyAcc-mean()-Z  \\\n",
            "count        7352.000000        7352.000000        7352.000000   \n",
            "mean            0.274488          -0.017695          -0.109141   \n",
            "std             0.070261           0.040811           0.056635   \n",
            "min            -1.000000          -1.000000          -1.000000   \n",
            "25%             0.262975          -0.024863          -0.120993   \n",
            "50%             0.277193          -0.017219          -0.108676   \n",
            "75%             0.288461          -0.010783          -0.097794   \n",
            "max             1.000000           1.000000           1.000000   \n",
            "\n",
            "       tBodyAcc-std()-X  tBodyAcc-std()-Y  tBodyAcc-std()-Z  tBodyAcc-mad()-X  \\\n",
            "count       7352.000000       7352.000000       7352.000000       7352.000000   \n",
            "mean          -0.605438         -0.510938         -0.604754         -0.630512   \n",
            "std            0.448734          0.502645          0.418687          0.424073   \n",
            "min           -1.000000         -0.999873         -1.000000         -1.000000   \n",
            "25%           -0.992754         -0.978129         -0.980233         -0.993591   \n",
            "50%           -0.946196         -0.851897         -0.859365         -0.950709   \n",
            "75%           -0.242813         -0.034231         -0.262415         -0.292680   \n",
            "max            1.000000          0.916238          1.000000          1.000000   \n",
            "\n",
            "       tBodyAcc-mad()-Y  tBodyAcc-mad()-Z  tBodyAcc-max()-X  ...  \\\n",
            "count       7352.000000       7352.000000       7352.000000  ...   \n",
            "mean          -0.526907         -0.606150         -0.468604  ...   \n",
            "std            0.485942          0.414122          0.544547  ...   \n",
            "min           -1.000000         -1.000000         -1.000000  ...   \n",
            "25%           -0.978162         -0.980251         -0.936219  ...   \n",
            "50%           -0.857328         -0.857143         -0.881637  ...   \n",
            "75%           -0.066701         -0.265671         -0.017129  ...   \n",
            "max            0.967664          1.000000          1.000000  ...   \n",
            "\n",
            "       fBodyBodyGyroJerkMag-skewness()  fBodyBodyGyroJerkMag-kurtosis()  \\\n",
            "count                      7352.000000                      7352.000000   \n",
            "mean                         -0.307009                        -0.625294   \n",
            "std                           0.321011                         0.307584   \n",
            "min                          -0.995357                        -0.999765   \n",
            "25%                          -0.542602                        -0.845573   \n",
            "50%                          -0.343685                        -0.711692   \n",
            "75%                          -0.126979                        -0.503878   \n",
            "max                           0.989538                         0.956845   \n",
            "\n",
            "       angle(tBodyAccMean,gravity)  angle(tBodyAccJerkMean),gravityMean)  \\\n",
            "count                  7352.000000                           7352.000000   \n",
            "mean                      0.008684                              0.002186   \n",
            "std                       0.336787                              0.448306   \n",
            "min                      -0.976580                             -1.000000   \n",
            "25%                      -0.121527                             -0.289549   \n",
            "50%                       0.009509                              0.008943   \n",
            "75%                       0.150865                              0.292861   \n",
            "max                       1.000000                              1.000000   \n",
            "\n",
            "       angle(tBodyGyroMean,gravityMean)  angle(tBodyGyroJerkMean,gravityMean)  \\\n",
            "count                       7352.000000                           7352.000000   \n",
            "mean                           0.008726                             -0.005981   \n",
            "std                            0.608303                              0.477975   \n",
            "min                           -1.000000                             -1.000000   \n",
            "25%                           -0.482273                             -0.376341   \n",
            "50%                            0.008735                             -0.000368   \n",
            "75%                            0.506187                              0.359368   \n",
            "max                            0.998702                              0.996078   \n",
            "\n",
            "       angle(X,gravityMean)  angle(Y,gravityMean)  angle(Z,gravityMean)  \\\n",
            "count           7352.000000           7352.000000           7352.000000   \n",
            "mean              -0.489547              0.058593             -0.056515   \n",
            "std                0.511807              0.297480              0.279122   \n",
            "min               -1.000000             -1.000000             -1.000000   \n",
            "25%               -0.812065             -0.017885             -0.143414   \n",
            "50%               -0.709417              0.182071              0.003181   \n",
            "75%               -0.509079              0.248353              0.107659   \n",
            "max                1.000000              0.478157              1.000000   \n",
            "\n",
            "           subject  \n",
            "count  7352.000000  \n",
            "mean     17.413085  \n",
            "std       8.975143  \n",
            "min       1.000000  \n",
            "25%       8.000000  \n",
            "50%      19.000000  \n",
            "75%      26.000000  \n",
            "max      30.000000  \n",
            "\n",
            "[8 rows x 562 columns]\n"
          ]
        }
      ]
    },
    {
      "cell_type": "code",
      "source": [
        "# 2. Check for missing values in training and test data\n",
        "print(\"Missing Values in Training Data:\")\n",
        "print(train_data.isnull().sum().sum())\n",
        "print(\"\\nMissing Values in Test Data:\")\n",
        "print(test_data.isnull().sum().sum())\n"
      ],
      "metadata": {
        "colab": {
          "base_uri": "https://localhost:8080/"
        },
        "id": "k8YUowcViZ8O",
        "outputId": "95b06c4b-22f1-492f-e150-b8b77cdad3bb"
      },
      "execution_count": 6,
      "outputs": [
        {
          "output_type": "stream",
          "name": "stdout",
          "text": [
            "Missing Values in Training Data:\n",
            "0\n",
            "\n",
            "Missing Values in Test Data:\n",
            "0\n"
          ]
        }
      ]
    },
    {
      "cell_type": "code",
      "source": [
        "# Step 3: Handle Duplicates\n",
        "# Check for duplicate rows in both datasets\n",
        "print(\"\\nNumber of Duplicate Rows in Training Data:\", train_data.duplicated().sum())\n",
        "print(\"Number of Duplicate Rows in Test Data:\", test_data.duplicated().sum())"
      ],
      "metadata": {
        "colab": {
          "base_uri": "https://localhost:8080/"
        },
        "id": "Wi7QnHahinuu",
        "outputId": "8c12247f-d878-4e93-85b4-81651c6d0120"
      },
      "execution_count": 7,
      "outputs": [
        {
          "output_type": "stream",
          "name": "stdout",
          "text": [
            "\n",
            "Number of Duplicate Rows in Training Data: 0\n",
            "Number of Duplicate Rows in Test Data: 0\n"
          ]
        }
      ]
    },
    {
      "cell_type": "code",
      "source": [
        "# 4. Standardize column names\n",
        "# Replace special characters with underscores\n",
        "def clean_column_names(columns):\n",
        "    return (columns\n",
        "            .str.replace(r\"[\\(\\)-]\", \"_\", regex=True)  # Replace parentheses and dashes with underscores\n",
        "            .str.replace(r\",\", \"_\", regex=True)       # Replace commas with underscores\n",
        "            .str.strip()                              # Remove leading/trailing whitespaces\n",
        "            .str.replace(\"__\", \"_\")                  # Replace double underscores with single underscore\n",
        "           )\n",
        "\n",
        "# Apply to both train and test datasets\n",
        "train_data.columns = clean_column_names(train_data.columns)\n",
        "test_data.columns = clean_column_names(test_data.columns)\n",
        "\n",
        "print(\"Updated Column Names (Train):\\n\", train_data.columns)\n",
        "\n",
        "\n"
      ],
      "metadata": {
        "colab": {
          "base_uri": "https://localhost:8080/"
        },
        "id": "nkSae9THhbGc",
        "outputId": "4ddfc82a-1e80-4943-f4b9-ea564cf9dcea"
      },
      "execution_count": 8,
      "outputs": [
        {
          "output_type": "stream",
          "name": "stdout",
          "text": [
            "Updated Column Names (Train):\n",
            " Index(['tBodyAcc_mean__X', 'tBodyAcc_mean__Y', 'tBodyAcc_mean__Z',\n",
            "       'tBodyAcc_std__X', 'tBodyAcc_std__Y', 'tBodyAcc_std__Z',\n",
            "       'tBodyAcc_mad__X', 'tBodyAcc_mad__Y', 'tBodyAcc_mad__Z',\n",
            "       'tBodyAcc_max__X',\n",
            "       ...\n",
            "       'fBodyBodyGyroJerkMag_kurtosis_', 'angle_tBodyAccMean_gravity_',\n",
            "       'angle_tBodyAccJerkMean_gravityMean_',\n",
            "       'angle_tBodyGyroMean_gravityMean_',\n",
            "       'angle_tBodyGyroJerkMean_gravityMean_', 'angle_X_gravityMean_',\n",
            "       'angle_Y_gravityMean_', 'angle_Z_gravityMean_', 'subject', 'Activity'],\n",
            "      dtype='object', length=563)\n"
          ]
        }
      ]
    },
    {
      "cell_type": "code",
      "source": [
        "train_data['Activity'].unique()"
      ],
      "metadata": {
        "colab": {
          "base_uri": "https://localhost:8080/"
        },
        "id": "WQ-RO0wgk7qG",
        "outputId": "ddc40a09-c0b8-4eda-bfba-a45559bfeb05"
      },
      "execution_count": 9,
      "outputs": [
        {
          "output_type": "execute_result",
          "data": {
            "text/plain": [
              "array(['STANDING', 'SITTING', 'LAYING', 'WALKING', 'WALKING_DOWNSTAIRS',\n",
              "       'WALKING_UPSTAIRS'], dtype=object)"
            ]
          },
          "metadata": {},
          "execution_count": 9
        }
      ]
    },
    {
      "cell_type": "code",
      "source": [
        "test_data['Activity'].unique()"
      ],
      "metadata": {
        "colab": {
          "base_uri": "https://localhost:8080/"
        },
        "id": "kik-J3Qzjxeu",
        "outputId": "de83c9fa-e031-4678-dc14-691449890eb0"
      },
      "execution_count": 10,
      "outputs": [
        {
          "output_type": "execute_result",
          "data": {
            "text/plain": [
              "array(['STANDING', 'SITTING', 'LAYING', 'WALKING', 'WALKING_DOWNSTAIRS',\n",
              "       'WALKING_UPSTAIRS'], dtype=object)"
            ]
          },
          "metadata": {},
          "execution_count": 10
        }
      ]
    },
    {
      "cell_type": "code",
      "source": [
        "#ids\n",
        "train_data['subject'].unique()"
      ],
      "metadata": {
        "colab": {
          "base_uri": "https://localhost:8080/"
        },
        "id": "lrJKrM7kk9u0",
        "outputId": "b04095a7-84f6-4d30-878b-35ff95200961"
      },
      "execution_count": 11,
      "outputs": [
        {
          "output_type": "execute_result",
          "data": {
            "text/plain": [
              "array([ 1,  3,  5,  6,  7,  8, 11, 14, 15, 16, 17, 19, 21, 22, 23, 25, 26,\n",
              "       27, 28, 29, 30])"
            ]
          },
          "metadata": {},
          "execution_count": 11
        }
      ]
    },
    {
      "cell_type": "code",
      "source": [
        "test_data['subject'].unique()"
      ],
      "metadata": {
        "colab": {
          "base_uri": "https://localhost:8080/"
        },
        "id": "rsIBEqAbjr5M",
        "outputId": "ae94f000-65da-441b-f88b-e8263b4aa234"
      },
      "execution_count": 12,
      "outputs": [
        {
          "output_type": "execute_result",
          "data": {
            "text/plain": [
              "array([ 2,  4,  9, 10, 12, 13, 18, 20, 24])"
            ]
          },
          "metadata": {},
          "execution_count": 12
        }
      ]
    },
    {
      "cell_type": "code",
      "source": [
        "# 5. Encode the target variable (Activity column)\n",
        "label_encoder = LabelEncoder()\n",
        "train_data[\"Activity\"] = label_encoder.fit_transform(train_data[\"Activity\"])\n",
        "test_data[\"Activity\"] = label_encoder.transform(test_data[\"Activity\"])\n",
        "print(\"Encoded Activity Classes:\", label_encoder.classes_)\n"
      ],
      "metadata": {
        "colab": {
          "base_uri": "https://localhost:8080/"
        },
        "id": "l9SSyyznl0f2",
        "outputId": "0b0c2e12-5d24-494f-eb3c-8f2fd6a948ca"
      },
      "execution_count": 13,
      "outputs": [
        {
          "output_type": "stream",
          "name": "stdout",
          "text": [
            "Encoded Activity Classes: ['LAYING' 'SITTING' 'STANDING' 'WALKING' 'WALKING_DOWNSTAIRS'\n",
            " 'WALKING_UPSTAIRS']\n"
          ]
        }
      ]
    },
    {
      "cell_type": "code",
      "source": [
        "# Identify feature columns (exclude 'subject' and 'Activity')\n",
        "feature_columns = train_data.columns[:-2]  # All columns except the last two ('subject' and 'Activity')\n",
        "\n",
        "# Initialize MinMaxScaler\n",
        "scaler = MinMaxScaler()\n",
        "\n",
        "# Normalize the feature columns in training and test data\n",
        "train_data[feature_columns] = scaler.fit_transform(train_data[feature_columns])\n",
        "test_data[feature_columns] = scaler.transform(test_data[feature_columns])\n",
        "\n",
        "# Split the data into features (X) and target (y)\n",
        "X_train = train_data[feature_columns]  # Features\n",
        "y_train = train_data[\"Activity\"]       # Target\n",
        "X_test = test_data[feature_columns]    # Features\n",
        "y_test = test_data[\"Activity\"]         # Target\n",
        "\n",
        "# Verify the shapes of the processed data\n",
        "print(\"Training Features Shape:\", X_train.shape)\n",
        "print(\"Training Target Shape:\", y_train.shape)\n",
        "print(\"Test Features Shape:\", X_test.shape)\n",
        "print(\"Test Target Shape:\", y_test.shape)\n"
      ],
      "metadata": {
        "colab": {
          "base_uri": "https://localhost:8080/"
        },
        "id": "LHWJ8XQokALg",
        "outputId": "b0b7b5cc-a724-48ba-94cc-3f653647b016"
      },
      "execution_count": 14,
      "outputs": [
        {
          "output_type": "stream",
          "name": "stdout",
          "text": [
            "Training Features Shape: (7352, 561)\n",
            "Training Target Shape: (7352,)\n",
            "Test Features Shape: (2947, 561)\n",
            "Test Target Shape: (2947,)\n"
          ]
        }
      ]
    },
    {
      "cell_type": "code",
      "source": [
        "random.seed(42)\n",
        "np.random.seed(42)\n",
        "tf.random.set_seed(42)"
      ],
      "metadata": {
        "id": "kZeecljnrW-V"
      },
      "execution_count": 15,
      "outputs": []
    },
    {
      "cell_type": "code",
      "source": [
        "# One-hot encode the target variable\n",
        "y_train_categorical = to_categorical(y_train, num_classes=6)  # Assuming 6 unique activities\n",
        "y_test_categorical = to_categorical(y_test, num_classes=6)\n",
        "\n",
        "print(\"Shape of y_train_categorical:\", y_train_categorical.shape)\n",
        "print(\"Shape of y_test_categorical:\", y_test_categorical.shape)\n"
      ],
      "metadata": {
        "colab": {
          "base_uri": "https://localhost:8080/"
        },
        "id": "8BMHhdBNntHN",
        "outputId": "9a39a1e6-ee75-4844-c838-d8b576e4c4df"
      },
      "execution_count": 16,
      "outputs": [
        {
          "output_type": "stream",
          "name": "stdout",
          "text": [
            "Shape of y_train_categorical: (7352, 6)\n",
            "Shape of y_test_categorical: (2947, 6)\n"
          ]
        }
      ]
    },
    {
      "cell_type": "code",
      "source": [
        "# Define the neural network architecture\n",
        "model = Sequential([\n",
        "    Dense(128, activation='relu', input_shape=(X_train.shape[1],)),  # Input layer\n",
        "    Dropout(0.3),  # Dropout for regularization\n",
        "    Dense(64, activation='relu'),  # Hidden layer\n",
        "    Dropout(0.3),\n",
        "    Dense(6, activation='softmax')  # Output layer (6 classes)\n",
        "])\n",
        "\n",
        "# Compile the model\n",
        "model.compile(optimizer='adam',\n",
        "              loss='categorical_crossentropy',\n",
        "              metrics=['accuracy'])\n",
        "\n",
        "# Display the model summary\n",
        "model.summary()\n"
      ],
      "metadata": {
        "colab": {
          "base_uri": "https://localhost:8080/",
          "height": 289
        },
        "id": "gJRqnXg5naso",
        "outputId": "b5b2d4ff-bc2e-4b53-c2f9-af7f645ca489"
      },
      "execution_count": 17,
      "outputs": [
        {
          "output_type": "display_data",
          "data": {
            "text/plain": [
              "\u001b[1mModel: \"sequential\"\u001b[0m\n"
            ],
            "text/html": [
              "<pre style=\"white-space:pre;overflow-x:auto;line-height:normal;font-family:Menlo,'DejaVu Sans Mono',consolas,'Courier New',monospace\"><span style=\"font-weight: bold\">Model: \"sequential\"</span>\n",
              "</pre>\n"
            ]
          },
          "metadata": {}
        },
        {
          "output_type": "display_data",
          "data": {
            "text/plain": [
              "┏━━━━━━━━━━━━━━━━━━━━━━━━━━━━━━━━━━━━━━┳━━━━━━━━━━━━━━━━━━━━━━━━━━━━━┳━━━━━━━━━━━━━━━━━┓\n",
              "┃\u001b[1m \u001b[0m\u001b[1mLayer (type)                        \u001b[0m\u001b[1m \u001b[0m┃\u001b[1m \u001b[0m\u001b[1mOutput Shape               \u001b[0m\u001b[1m \u001b[0m┃\u001b[1m \u001b[0m\u001b[1m        Param #\u001b[0m\u001b[1m \u001b[0m┃\n",
              "┡━━━━━━━━━━━━━━━━━━━━━━━━━━━━━━━━━━━━━━╇━━━━━━━━━━━━━━━━━━━━━━━━━━━━━╇━━━━━━━━━━━━━━━━━┩\n",
              "│ dense (\u001b[38;5;33mDense\u001b[0m)                        │ (\u001b[38;5;45mNone\u001b[0m, \u001b[38;5;34m128\u001b[0m)                 │          \u001b[38;5;34m71,936\u001b[0m │\n",
              "├──────────────────────────────────────┼─────────────────────────────┼─────────────────┤\n",
              "│ dropout (\u001b[38;5;33mDropout\u001b[0m)                    │ (\u001b[38;5;45mNone\u001b[0m, \u001b[38;5;34m128\u001b[0m)                 │               \u001b[38;5;34m0\u001b[0m │\n",
              "├──────────────────────────────────────┼─────────────────────────────┼─────────────────┤\n",
              "│ dense_1 (\u001b[38;5;33mDense\u001b[0m)                      │ (\u001b[38;5;45mNone\u001b[0m, \u001b[38;5;34m64\u001b[0m)                  │           \u001b[38;5;34m8,256\u001b[0m │\n",
              "├──────────────────────────────────────┼─────────────────────────────┼─────────────────┤\n",
              "│ dropout_1 (\u001b[38;5;33mDropout\u001b[0m)                  │ (\u001b[38;5;45mNone\u001b[0m, \u001b[38;5;34m64\u001b[0m)                  │               \u001b[38;5;34m0\u001b[0m │\n",
              "├──────────────────────────────────────┼─────────────────────────────┼─────────────────┤\n",
              "│ dense_2 (\u001b[38;5;33mDense\u001b[0m)                      │ (\u001b[38;5;45mNone\u001b[0m, \u001b[38;5;34m6\u001b[0m)                   │             \u001b[38;5;34m390\u001b[0m │\n",
              "└──────────────────────────────────────┴─────────────────────────────┴─────────────────┘\n"
            ],
            "text/html": [
              "<pre style=\"white-space:pre;overflow-x:auto;line-height:normal;font-family:Menlo,'DejaVu Sans Mono',consolas,'Courier New',monospace\">┏━━━━━━━━━━━━━━━━━━━━━━━━━━━━━━━━━━━━━━┳━━━━━━━━━━━━━━━━━━━━━━━━━━━━━┳━━━━━━━━━━━━━━━━━┓\n",
              "┃<span style=\"font-weight: bold\"> Layer (type)                         </span>┃<span style=\"font-weight: bold\"> Output Shape                </span>┃<span style=\"font-weight: bold\">         Param # </span>┃\n",
              "┡━━━━━━━━━━━━━━━━━━━━━━━━━━━━━━━━━━━━━━╇━━━━━━━━━━━━━━━━━━━━━━━━━━━━━╇━━━━━━━━━━━━━━━━━┩\n",
              "│ dense (<span style=\"color: #0087ff; text-decoration-color: #0087ff\">Dense</span>)                        │ (<span style=\"color: #00d7ff; text-decoration-color: #00d7ff\">None</span>, <span style=\"color: #00af00; text-decoration-color: #00af00\">128</span>)                 │          <span style=\"color: #00af00; text-decoration-color: #00af00\">71,936</span> │\n",
              "├──────────────────────────────────────┼─────────────────────────────┼─────────────────┤\n",
              "│ dropout (<span style=\"color: #0087ff; text-decoration-color: #0087ff\">Dropout</span>)                    │ (<span style=\"color: #00d7ff; text-decoration-color: #00d7ff\">None</span>, <span style=\"color: #00af00; text-decoration-color: #00af00\">128</span>)                 │               <span style=\"color: #00af00; text-decoration-color: #00af00\">0</span> │\n",
              "├──────────────────────────────────────┼─────────────────────────────┼─────────────────┤\n",
              "│ dense_1 (<span style=\"color: #0087ff; text-decoration-color: #0087ff\">Dense</span>)                      │ (<span style=\"color: #00d7ff; text-decoration-color: #00d7ff\">None</span>, <span style=\"color: #00af00; text-decoration-color: #00af00\">64</span>)                  │           <span style=\"color: #00af00; text-decoration-color: #00af00\">8,256</span> │\n",
              "├──────────────────────────────────────┼─────────────────────────────┼─────────────────┤\n",
              "│ dropout_1 (<span style=\"color: #0087ff; text-decoration-color: #0087ff\">Dropout</span>)                  │ (<span style=\"color: #00d7ff; text-decoration-color: #00d7ff\">None</span>, <span style=\"color: #00af00; text-decoration-color: #00af00\">64</span>)                  │               <span style=\"color: #00af00; text-decoration-color: #00af00\">0</span> │\n",
              "├──────────────────────────────────────┼─────────────────────────────┼─────────────────┤\n",
              "│ dense_2 (<span style=\"color: #0087ff; text-decoration-color: #0087ff\">Dense</span>)                      │ (<span style=\"color: #00d7ff; text-decoration-color: #00d7ff\">None</span>, <span style=\"color: #00af00; text-decoration-color: #00af00\">6</span>)                   │             <span style=\"color: #00af00; text-decoration-color: #00af00\">390</span> │\n",
              "└──────────────────────────────────────┴─────────────────────────────┴─────────────────┘\n",
              "</pre>\n"
            ]
          },
          "metadata": {}
        },
        {
          "output_type": "display_data",
          "data": {
            "text/plain": [
              "\u001b[1m Total params: \u001b[0m\u001b[38;5;34m80,582\u001b[0m (314.77 KB)\n"
            ],
            "text/html": [
              "<pre style=\"white-space:pre;overflow-x:auto;line-height:normal;font-family:Menlo,'DejaVu Sans Mono',consolas,'Courier New',monospace\"><span style=\"font-weight: bold\"> Total params: </span><span style=\"color: #00af00; text-decoration-color: #00af00\">80,582</span> (314.77 KB)\n",
              "</pre>\n"
            ]
          },
          "metadata": {}
        },
        {
          "output_type": "display_data",
          "data": {
            "text/plain": [
              "\u001b[1m Trainable params: \u001b[0m\u001b[38;5;34m80,582\u001b[0m (314.77 KB)\n"
            ],
            "text/html": [
              "<pre style=\"white-space:pre;overflow-x:auto;line-height:normal;font-family:Menlo,'DejaVu Sans Mono',consolas,'Courier New',monospace\"><span style=\"font-weight: bold\"> Trainable params: </span><span style=\"color: #00af00; text-decoration-color: #00af00\">80,582</span> (314.77 KB)\n",
              "</pre>\n"
            ]
          },
          "metadata": {}
        },
        {
          "output_type": "display_data",
          "data": {
            "text/plain": [
              "\u001b[1m Non-trainable params: \u001b[0m\u001b[38;5;34m0\u001b[0m (0.00 B)\n"
            ],
            "text/html": [
              "<pre style=\"white-space:pre;overflow-x:auto;line-height:normal;font-family:Menlo,'DejaVu Sans Mono',consolas,'Courier New',monospace\"><span style=\"font-weight: bold\"> Non-trainable params: </span><span style=\"color: #00af00; text-decoration-color: #00af00\">0</span> (0.00 B)\n",
              "</pre>\n"
            ]
          },
          "metadata": {}
        }
      ]
    },
    {
      "cell_type": "code",
      "source": [
        "early_stopping = EarlyStopping(monitor='val_loss', patience=5, restore_best_weights=True)\n",
        "history = model.fit(X_train, y_train_categorical,\n",
        "                    epochs=50,\n",
        "                    batch_size=32,\n",
        "                    validation_data=(X_test, y_test_categorical),\n",
        "                    callbacks=[early_stopping],\n",
        "                    verbose=1)\n"
      ],
      "metadata": {
        "colab": {
          "base_uri": "https://localhost:8080/"
        },
        "id": "HqT0f2tqnj5L",
        "outputId": "5436fb84-feb4-49c9-ebae-6e3ad10cac4b"
      },
      "execution_count": 18,
      "outputs": [
        {
          "output_type": "stream",
          "name": "stdout",
          "text": [
            "Epoch 1/50\n",
            "\u001b[1m230/230\u001b[0m \u001b[32m━━━━━━━━━━━━━━━━━━━━\u001b[0m\u001b[37m\u001b[0m \u001b[1m8s\u001b[0m 13ms/step - accuracy: 0.5173 - loss: 1.1085 - val_accuracy: 0.8212 - val_loss: 0.4013\n",
            "Epoch 2/50\n",
            "\u001b[1m230/230\u001b[0m \u001b[32m━━━━━━━━━━━━━━━━━━━━\u001b[0m\u001b[37m\u001b[0m \u001b[1m1s\u001b[0m 2ms/step - accuracy: 0.8511 - loss: 0.3800 - val_accuracy: 0.8965 - val_loss: 0.2443\n",
            "Epoch 3/50\n",
            "\u001b[1m230/230\u001b[0m \u001b[32m━━━━━━━━━━━━━━━━━━━━\u001b[0m\u001b[37m\u001b[0m \u001b[1m1s\u001b[0m 2ms/step - accuracy: 0.8913 - loss: 0.2738 - val_accuracy: 0.9084 - val_loss: 0.2205\n",
            "Epoch 4/50\n",
            "\u001b[1m230/230\u001b[0m \u001b[32m━━━━━━━━━━━━━━━━━━━━\u001b[0m\u001b[37m\u001b[0m \u001b[1m1s\u001b[0m 2ms/step - accuracy: 0.9268 - loss: 0.1938 - val_accuracy: 0.9209 - val_loss: 0.1975\n",
            "Epoch 5/50\n",
            "\u001b[1m230/230\u001b[0m \u001b[32m━━━━━━━━━━━━━━━━━━━━\u001b[0m\u001b[37m\u001b[0m \u001b[1m1s\u001b[0m 2ms/step - accuracy: 0.9261 - loss: 0.1914 - val_accuracy: 0.9230 - val_loss: 0.1809\n",
            "Epoch 6/50\n",
            "\u001b[1m230/230\u001b[0m \u001b[32m━━━━━━━━━━━━━━━━━━━━\u001b[0m\u001b[37m\u001b[0m \u001b[1m1s\u001b[0m 3ms/step - accuracy: 0.9473 - loss: 0.1471 - val_accuracy: 0.9379 - val_loss: 0.1631\n",
            "Epoch 7/50\n",
            "\u001b[1m230/230\u001b[0m \u001b[32m━━━━━━━━━━━━━━━━━━━━\u001b[0m\u001b[37m\u001b[0m \u001b[1m1s\u001b[0m 3ms/step - accuracy: 0.9548 - loss: 0.1218 - val_accuracy: 0.9304 - val_loss: 0.1723\n",
            "Epoch 8/50\n",
            "\u001b[1m230/230\u001b[0m \u001b[32m━━━━━━━━━━━━━━━━━━━━\u001b[0m\u001b[37m\u001b[0m \u001b[1m1s\u001b[0m 2ms/step - accuracy: 0.9565 - loss: 0.1148 - val_accuracy: 0.9403 - val_loss: 0.1553\n",
            "Epoch 9/50\n",
            "\u001b[1m230/230\u001b[0m \u001b[32m━━━━━━━━━━━━━━━━━━━━\u001b[0m\u001b[37m\u001b[0m \u001b[1m1s\u001b[0m 2ms/step - accuracy: 0.9600 - loss: 0.1065 - val_accuracy: 0.9321 - val_loss: 0.1823\n",
            "Epoch 10/50\n",
            "\u001b[1m230/230\u001b[0m \u001b[32m━━━━━━━━━━━━━━━━━━━━\u001b[0m\u001b[37m\u001b[0m \u001b[1m1s\u001b[0m 2ms/step - accuracy: 0.9619 - loss: 0.1106 - val_accuracy: 0.9420 - val_loss: 0.1631\n",
            "Epoch 11/50\n",
            "\u001b[1m230/230\u001b[0m \u001b[32m━━━━━━━━━━━━━━━━━━━━\u001b[0m\u001b[37m\u001b[0m \u001b[1m1s\u001b[0m 2ms/step - accuracy: 0.9620 - loss: 0.1075 - val_accuracy: 0.9274 - val_loss: 0.1976\n",
            "Epoch 12/50\n",
            "\u001b[1m230/230\u001b[0m \u001b[32m━━━━━━━━━━━━━━━━━━━━\u001b[0m\u001b[37m\u001b[0m \u001b[1m1s\u001b[0m 2ms/step - accuracy: 0.9600 - loss: 0.1038 - val_accuracy: 0.9488 - val_loss: 0.1551\n",
            "Epoch 13/50\n",
            "\u001b[1m230/230\u001b[0m \u001b[32m━━━━━━━━━━━━━━━━━━━━\u001b[0m\u001b[37m\u001b[0m \u001b[1m1s\u001b[0m 3ms/step - accuracy: 0.9628 - loss: 0.0959 - val_accuracy: 0.9372 - val_loss: 0.1883\n",
            "Epoch 14/50\n",
            "\u001b[1m230/230\u001b[0m \u001b[32m━━━━━━━━━━━━━━━━━━━━\u001b[0m\u001b[37m\u001b[0m \u001b[1m1s\u001b[0m 3ms/step - accuracy: 0.9683 - loss: 0.0874 - val_accuracy: 0.9437 - val_loss: 0.1567\n",
            "Epoch 15/50\n",
            "\u001b[1m230/230\u001b[0m \u001b[32m━━━━━━━━━━━━━━━━━━━━\u001b[0m\u001b[37m\u001b[0m \u001b[1m1s\u001b[0m 3ms/step - accuracy: 0.9721 - loss: 0.0871 - val_accuracy: 0.9454 - val_loss: 0.1528\n",
            "Epoch 16/50\n",
            "\u001b[1m230/230\u001b[0m \u001b[32m━━━━━━━━━━━━━━━━━━━━\u001b[0m\u001b[37m\u001b[0m \u001b[1m1s\u001b[0m 2ms/step - accuracy: 0.9672 - loss: 0.0911 - val_accuracy: 0.9494 - val_loss: 0.1624\n",
            "Epoch 17/50\n",
            "\u001b[1m230/230\u001b[0m \u001b[32m━━━━━━━━━━━━━━━━━━━━\u001b[0m\u001b[37m\u001b[0m \u001b[1m1s\u001b[0m 2ms/step - accuracy: 0.9676 - loss: 0.0821 - val_accuracy: 0.9382 - val_loss: 0.1795\n",
            "Epoch 18/50\n",
            "\u001b[1m230/230\u001b[0m \u001b[32m━━━━━━━━━━━━━━━━━━━━\u001b[0m\u001b[37m\u001b[0m \u001b[1m1s\u001b[0m 2ms/step - accuracy: 0.9688 - loss: 0.0816 - val_accuracy: 0.9484 - val_loss: 0.1436\n",
            "Epoch 19/50\n",
            "\u001b[1m230/230\u001b[0m \u001b[32m━━━━━━━━━━━━━━━━━━━━\u001b[0m\u001b[37m\u001b[0m \u001b[1m1s\u001b[0m 2ms/step - accuracy: 0.9725 - loss: 0.0707 - val_accuracy: 0.9511 - val_loss: 0.1440\n",
            "Epoch 20/50\n",
            "\u001b[1m230/230\u001b[0m \u001b[32m━━━━━━━━━━━━━━━━━━━━\u001b[0m\u001b[37m\u001b[0m \u001b[1m1s\u001b[0m 2ms/step - accuracy: 0.9728 - loss: 0.0778 - val_accuracy: 0.9494 - val_loss: 0.1664\n",
            "Epoch 21/50\n",
            "\u001b[1m230/230\u001b[0m \u001b[32m━━━━━━━━━━━━━━━━━━━━\u001b[0m\u001b[37m\u001b[0m \u001b[1m1s\u001b[0m 3ms/step - accuracy: 0.9726 - loss: 0.0701 - val_accuracy: 0.9315 - val_loss: 0.1979\n",
            "Epoch 22/50\n",
            "\u001b[1m230/230\u001b[0m \u001b[32m━━━━━━━━━━━━━━━━━━━━\u001b[0m\u001b[37m\u001b[0m \u001b[1m1s\u001b[0m 2ms/step - accuracy: 0.9711 - loss: 0.0804 - val_accuracy: 0.9501 - val_loss: 0.1345\n",
            "Epoch 23/50\n",
            "\u001b[1m230/230\u001b[0m \u001b[32m━━━━━━━━━━━━━━━━━━━━\u001b[0m\u001b[37m\u001b[0m \u001b[1m1s\u001b[0m 2ms/step - accuracy: 0.9746 - loss: 0.0707 - val_accuracy: 0.9481 - val_loss: 0.1369\n",
            "Epoch 24/50\n",
            "\u001b[1m230/230\u001b[0m \u001b[32m━━━━━━━━━━━━━━━━━━━━\u001b[0m\u001b[37m\u001b[0m \u001b[1m1s\u001b[0m 2ms/step - accuracy: 0.9709 - loss: 0.0760 - val_accuracy: 0.9518 - val_loss: 0.1658\n",
            "Epoch 25/50\n",
            "\u001b[1m230/230\u001b[0m \u001b[32m━━━━━━━━━━━━━━━━━━━━\u001b[0m\u001b[37m\u001b[0m \u001b[1m1s\u001b[0m 2ms/step - accuracy: 0.9716 - loss: 0.0719 - val_accuracy: 0.9423 - val_loss: 0.2022\n",
            "Epoch 26/50\n",
            "\u001b[1m230/230\u001b[0m \u001b[32m━━━━━━━━━━━━━━━━━━━━\u001b[0m\u001b[37m\u001b[0m \u001b[1m1s\u001b[0m 2ms/step - accuracy: 0.9741 - loss: 0.0650 - val_accuracy: 0.9471 - val_loss: 0.1563\n",
            "Epoch 27/50\n",
            "\u001b[1m230/230\u001b[0m \u001b[32m━━━━━━━━━━━━━━━━━━━━\u001b[0m\u001b[37m\u001b[0m \u001b[1m1s\u001b[0m 2ms/step - accuracy: 0.9755 - loss: 0.0672 - val_accuracy: 0.9498 - val_loss: 0.1703\n"
          ]
        }
      ]
    },
    {
      "cell_type": "code",
      "source": [
        "# Evaluate the model on the test data\n",
        "loss, accuracy = model.evaluate(X_test, y_test_categorical, verbose=0)\n",
        "print(f\"Test Loss: {loss:.4f}\")\n",
        "print(f\"Test Accuracy: {accuracy:.4f}\")\n"
      ],
      "metadata": {
        "colab": {
          "base_uri": "https://localhost:8080/"
        },
        "id": "MJQsau90oRTQ",
        "outputId": "08e7982b-1232-423f-c644-7a0065db4a77"
      },
      "execution_count": 19,
      "outputs": [
        {
          "output_type": "stream",
          "name": "stdout",
          "text": [
            "Test Loss: 0.1345\n",
            "Test Accuracy: 0.9501\n"
          ]
        }
      ]
    },
    {
      "cell_type": "code",
      "source": [
        "# Generate predictions on the test data\n",
        "y_pred_categorical = model.predict(X_test)  # Predict probabilities\n",
        "y_pred = tf.argmax(y_pred_categorical, axis=1).numpy()  # Convert probabilities to class labels\n",
        "\n"
      ],
      "metadata": {
        "colab": {
          "base_uri": "https://localhost:8080/"
        },
        "id": "o9IhokyJr3Mn",
        "outputId": "e4a17820-b2db-49e1-a15e-2537b579bd35"
      },
      "execution_count": 20,
      "outputs": [
        {
          "output_type": "stream",
          "name": "stdout",
          "text": [
            "\u001b[1m93/93\u001b[0m \u001b[32m━━━━━━━━━━━━━━━━━━━━\u001b[0m\u001b[37m\u001b[0m \u001b[1m0s\u001b[0m 3ms/step\n"
          ]
        }
      ]
    },
    {
      "cell_type": "code",
      "source": [
        "# Debug the target_names\n",
        "print(\"Target Names:\", label_encoder.classes_)\n",
        "print(\"Target Names Type:\", type(label_encoder.classes_))\n",
        "\n",
        "# Convert target_names to a list of strings\n",
        "target_names = list(map(str, label_encoder.classes_))\n",
        "\n",
        "# Generate the classification report\n",
        "print(\"\\nClassification Report:\")\n",
        "print(classification_report(y_test, y_pred, target_names=target_names))\n",
        "\n",
        "# Print the confusion matrix\n",
        "print(\"\\nConfusion Matrix:\")\n",
        "print(confusion_matrix(y_test, y_pred))\n"
      ],
      "metadata": {
        "colab": {
          "base_uri": "https://localhost:8080/"
        },
        "id": "1kHqsaCVoX1o",
        "outputId": "6bcf5d13-1731-4bf3-f6c0-411c225f08d7"
      },
      "execution_count": 21,
      "outputs": [
        {
          "output_type": "stream",
          "name": "stdout",
          "text": [
            "Target Names: ['LAYING' 'SITTING' 'STANDING' 'WALKING' 'WALKING_DOWNSTAIRS'\n",
            " 'WALKING_UPSTAIRS']\n",
            "Target Names Type: <class 'numpy.ndarray'>\n",
            "\n",
            "Classification Report:\n",
            "                    precision    recall  f1-score   support\n",
            "\n",
            "            LAYING       1.00      0.98      0.99       537\n",
            "           SITTING       0.92      0.93      0.92       491\n",
            "          STANDING       0.92      0.93      0.92       532\n",
            "           WALKING       0.95      0.97      0.96       496\n",
            "WALKING_DOWNSTAIRS       0.94      0.98      0.96       420\n",
            "  WALKING_UPSTAIRS       0.96      0.92      0.94       471\n",
            "\n",
            "          accuracy                           0.95      2947\n",
            "         macro avg       0.95      0.95      0.95      2947\n",
            "      weighted avg       0.95      0.95      0.95      2947\n",
            "\n",
            "\n",
            "Confusion Matrix:\n",
            "[[528   0   9   0   0   0]\n",
            " [  0 455  34   0   0   2]\n",
            " [  0  39 493   0   0   0]\n",
            " [  0   0   0 479  10   7]\n",
            " [  0   0   0   3 410   7]\n",
            " [  0   0   0  20  16 435]]\n"
          ]
        }
      ]
    },
    {
      "cell_type": "code",
      "source": [
        "# Plot accuracy\n",
        "plt.figure(figsize=(12, 6))\n",
        "plt.plot(history.history['accuracy'], label='Training Accuracy')\n",
        "plt.plot(history.history['val_accuracy'], label='Validation Accuracy')\n",
        "plt.title('Accuracy Over Epochs')\n",
        "plt.xlabel('Epochs')\n",
        "plt.ylabel('Accuracy')\n",
        "plt.legend()\n",
        "plt.show()\n",
        "\n",
        "# Plot loss\n",
        "plt.figure(figsize=(12, 6))\n",
        "plt.plot(history.history['loss'], label='Training Loss')\n",
        "plt.plot(history.history['val_loss'], label='Validation Loss')\n",
        "plt.title('Loss Over Epochs')\n",
        "plt.xlabel('Epochs')\n",
        "plt.ylabel('Loss')\n",
        "plt.legend()\n",
        "plt.show()\n"
      ],
      "metadata": {
        "colab": {
          "base_uri": "https://localhost:8080/",
          "height": 1000
        },
        "id": "yFQunDFRpTF3",
        "outputId": "03550fe7-ceb2-4389-cde5-7b8883459a6c"
      },
      "execution_count": 22,
      "outputs": [
        {
          "output_type": "display_data",
          "data": {
            "text/plain": [
              "<Figure size 1200x600 with 1 Axes>"
            ],
            "image/png": "[encoded data removed]"
          },
          "metadata": {}
        },
        {
          "output_type": "display_data",
          "data": {
            "text/plain": [
              "<Figure size 1200x600 with 1 Axes>"
            ],
            "image/png": "[encoded data removed]"
          },
          "metadata": {}
        }
      ]
    },
    {
      "cell_type": "code",
      "source": [
        "print(history.history['accuracy'])\n",
        "print(history.history['val_accuracy'])"
      ],
      "metadata": {
        "id": "xY_q5XsJsUkK",
        "outputId": "3bee3865-ae49-4e00-a552-9cbd8d5c2332",
        "colab": {
          "base_uri": "https://localhost:8080/"
        }
      },
      "execution_count": 23,
      "outputs": [
        {
          "output_type": "stream",
          "name": "stdout",
          "text": [
            "[0.6671653985977173, 0.8694232702255249, 0.9016594290733337, 0.9284548163414001, 0.9352557063102722, 0.9500815868377686, 0.9542981386184692, 0.956066370010376, 0.9591947793960571, 0.9602829217910767, 0.9601469039916992, 0.9644994735717773, 0.9634113311767578, 0.9677639007568359, 0.9711642861366272, 0.9680359363555908, 0.9702121615409851, 0.969260036945343, 0.9715723395347595, 0.9699401259422302, 0.971708357334137, 0.9736126065254211, 0.9732045531272888, 0.9718443751335144, 0.9736126065254211, 0.9729325175285339, 0.9748367667198181]\n",
            "[0.8211740851402283, 0.8965049386024475, 0.9083814024925232, 0.9209365248680115, 0.9229725003242493, 0.9379029273986816, 0.9304377436637878, 0.9402782320976257, 0.9321343898773193, 0.9419748783111572, 0.9273837804794312, 0.9487614631652832, 0.937224268913269, 0.9436715245246887, 0.9453681707382202, 0.9494401216506958, 0.9382422566413879, 0.9484221339225769, 0.9511367678642273, 0.9494401216506958, 0.9314557313919067, 0.9501187801361084, 0.9480828046798706, 0.9518154263496399, 0.9423142075538635, 0.9470648169517517, 0.9497794508934021]\n"
          ]
        }
      ]
    },
    {
      "cell_type": "code",
      "source": [
        "# Define individual models\n",
        "model1 = RandomForestClassifier()\n",
        "model2 = LogisticRegression()\n",
        "model3 = SVC(probability=True)\n",
        "\n",
        "# Evaluate RandomForestClassifier\n",
        "model1.fit(X_train, y_train)\n",
        "y_pred_rf = model1.predict(X_test)\n",
        "print(\"RandomForest Accuracy:\", accuracy_score(y_test, y_pred_rf))\n",
        "\n",
        "# Evaluate LogisticRegression\n",
        "model2.fit(X_train, y_train)\n",
        "y_pred_lr = model2.predict(X_test)\n",
        "print(\"LogisticRegression Accuracy:\", accuracy_score(y_test, y_pred_lr))\n",
        "\n",
        "# Evaluate SVC\n",
        "model3.fit(X_train, y_train)\n",
        "y_pred_svc = model3.predict(X_test)\n",
        "print(\"SVC Accuracy:\", accuracy_score(y_test, y_pred_svc))\n",
        "\n",
        "\n",
        "# Define the Voting Classifier\n",
        "ensemble = VotingClassifier(estimators=[('rf', model1), ('lr', model2), ('svc', model3)], voting='soft')\n",
        "ensemble.fit(X_train, y_train)\n",
        "\n",
        "# Predict on the test set\n",
        "y_pred = ensemble.predict(X_test)\n",
        "\n",
        "# Accuracy\n",
        "accuracy = accuracy_score(y_test, y_pred)\n",
        "print(f\"Accuracy: {accuracy:.2f}\")\n",
        "\n",
        "# Precision, Recall, and F1-Score\n",
        "precision = precision_score(y_test, y_pred, average='weighted')\n",
        "recall = recall_score(y_test, y_pred, average='weighted')\n",
        "f1 = f1_score(y_test, y_pred, average='weighted')\n",
        "\n",
        "print(f\"Precision: {precision:.2f}\")\n",
        "print(f\"Recall: {recall:.2f}\")\n",
        "print(f\"F1-Score: {f1:.2f}\")\n",
        "\n",
        "# Classification Report\n",
        "print(\"Classification Report:\")\n",
        "print(classification_report(y_test, y_pred, target_names=target_names))\n",
        "\n",
        "#print(classification_report(y_test, y_pred))\n",
        "\n",
        "# Confusion Matrix\n",
        "print(\"Confusion Matrix:\")\n",
        "print(confusion_matrix(y_test, y_pred))\n"
      ],
      "metadata": {
        "colab": {
          "base_uri": "https://localhost:8080/"
        },
        "id": "LCEkJy86aKxr",
        "outputId": "56860521-98fe-4d92-ebd8-784a45c31d8d"
      },
      "execution_count": 24,
      "outputs": [
        {
          "output_type": "stream",
          "name": "stdout",
          "text": [
            "RandomForest Accuracy: 0.9267051238547676\n",
            "LogisticRegression Accuracy: 0.9535120461486257\n",
            "SVC Accuracy: 0.9480827960637936\n",
            "Accuracy: 0.96\n",
            "Precision: 0.96\n",
            "Recall: 0.96\n",
            "F1-Score: 0.96\n",
            "Classification Report:\n",
            "                    precision    recall  f1-score   support\n",
            "\n",
            "            LAYING       1.00      1.00      1.00       537\n",
            "           SITTING       0.95      0.89      0.92       491\n",
            "          STANDING       0.91      0.96      0.94       532\n",
            "           WALKING       0.95      0.98      0.97       496\n",
            "WALKING_DOWNSTAIRS       0.98      0.93      0.96       420\n",
            "  WALKING_UPSTAIRS       0.94      0.96      0.95       471\n",
            "\n",
            "          accuracy                           0.96      2947\n",
            "         macro avg       0.96      0.96      0.96      2947\n",
            "      weighted avg       0.96      0.96      0.96      2947\n",
            "\n",
            "Confusion Matrix:\n",
            "[[537   0   0   0   0   0]\n",
            " [  0 439  49   0   0   3]\n",
            " [  0  21 511   0   0   0]\n",
            " [  0   0   0 488   4   4]\n",
            " [  0   0   0   7 391  22]\n",
            " [  0   0   0  16   2 453]]\n"
          ]
        }
      ]
    },
    {
      "cell_type": "code",
      "source": [
        "##Hyperparameter Tuning using Grid Search CV\n",
        "from sklearn.model_selection import RandomizedSearchCV\n",
        "\n",
        "# RandomForestClassifier parameter grid\n",
        "rf_param_grid = {\n",
        "    'n_estimators': [50, 100, 200],\n",
        "    'max_depth': [None, 10, 20, 30],\n",
        "    'min_samples_split': [2, 5, 10]\n",
        "}\n",
        "\n",
        "# LogisticRegression parameter grid\n",
        "lr_param_grid = {\n",
        "    'C': [0.1, 1, 10, 100],\n",
        "    'solver': ['liblinear', 'lbfgs'],\n",
        "    'penalty': ['l1', 'l2']\n",
        "}\n",
        "\n",
        "# SVC parameter grid\n",
        "svc_param_grid = {\n",
        "    'C': [0.1, 1, 10, 100],\n",
        "    'kernel': ['linear', 'rbf', 'poly'],\n",
        "    'gamma': ['scale', 'auto']\n",
        "}\n",
        "\n"
      ],
      "metadata": {
        "id": "zFt13iDTgPRY"
      },
      "execution_count": 25,
      "outputs": []
    },
    {
      "cell_type": "code",
      "source": [
        "# Hyperparameter tuning for RandomForestClassifier\n",
        "rf_grid_search = GridSearchCV(RandomForestClassifier(), rf_param_grid, cv=5, scoring='accuracy')\n",
        "rf_grid_search.fit(X_train, y_train)\n",
        "best_rf = rf_grid_search.best_estimator_\n",
        "print(\"Best RandomForest Parameters:\", rf_grid_search.best_params_)\n",
        "\n",
        "# Hyperparameter tuning for LogisticRegression\n",
        "lr_grid_search = GridSearchCV(LogisticRegression(), lr_param_grid, cv=5, scoring='accuracy')\n",
        "lr_grid_search.fit(X_train, y_train)\n",
        "best_lr = lr_grid_search.best_estimator_\n",
        "print(\"Best LogisticRegression Parameters:\", lr_grid_search.best_params_)\n",
        "\n",
        "# Hyperparameter tuning for SVC\n",
        "svc_grid_search = GridSearchCV(SVC(probability=True), svc_param_grid, cv=5, scoring='accuracy')\n",
        "svc_grid_search.fit(X_train, y_train)\n",
        "best_svc = svc_grid_search.best_estimator_\n",
        "print(\"Best SVC Parameters:\", svc_grid_search.best_params_)\n"
      ],
      "metadata": {
        "id": "ZW5K-jzphFx2",
        "colab": {
          "base_uri": "https://localhost:8080/"
        },
        "outputId": "a3421509-fbf1-48cd-b700-085a64ec7323"
      },
      "execution_count": 26,
      "outputs": [
        {
          "output_type": "stream",
          "name": "stdout",
          "text": [
            "Best RandomForest Parameters: {'max_depth': None, 'min_samples_split': 10, 'n_estimators': 50}\n",
            "Best LogisticRegression Parameters: {'C': 100, 'penalty': 'l2', 'solver': 'liblinear'}\n",
            "Best SVC Parameters: {'C': 100, 'gamma': 'scale', 'kernel': 'rbf'}\n"
          ]
        }
      ]
    },
    {
      "cell_type": "code",
      "source": [
        "# Define the Voting Classifier with tuned models\n",
        "ensemble = VotingClassifier(\n",
        "    estimators=[('rf', best_rf), ('lr', best_lr), ('svc', best_svc)],\n",
        "    voting='soft'\n",
        ")\n",
        "\n",
        "# Train the ensemble model\n",
        "ensemble.fit(X_train, y_train)\n",
        "\n",
        "# Evaluate the ensemble\n",
        "y_pred = ensemble.predict(X_test)\n",
        "\n",
        "\n",
        "# Accuracy\n",
        "accuracy = accuracy_score(y_test, y_pred)\n",
        "print(f\"Accuracy: {accuracy:.2f}\")\n",
        "\n",
        "# Precision, Recall, and F1-Score\n",
        "precision = precision_score(y_test, y_pred, average='weighted')\n",
        "recall = recall_score(y_test, y_pred, average='weighted')\n",
        "f1 = f1_score(y_test, y_pred, average='weighted')\n",
        "\n",
        "print(f\"Precision: {precision:.2f}\")\n",
        "print(f\"Recall: {recall:.2f}\")\n",
        "print(f\"F1-Score: {f1:.2f}\")\n",
        "\n",
        "# Classification Report\n",
        "print(\"Classification Report:\")\n",
        "print(classification_report(y_test, y_pred, target_names=target_names))\n",
        "\n",
        "#print(classification_report(y_test, y_pred))\n",
        "\n",
        "# Confusion Matrix\n",
        "print(\"Confusion Matrix:\")\n",
        "print(confusion_matrix(y_test, y_pred))\n",
        "\n"
      ],
      "metadata": {
        "id": "Xo3ffRUY6twn",
        "colab": {
          "base_uri": "https://localhost:8080/"
        },
        "outputId": "70640a24-106b-463e-9737-22f36847d275"
      },
      "execution_count": 27,
      "outputs": [
        {
          "output_type": "stream",
          "name": "stdout",
          "text": [
            "Accuracy: 0.97\n",
            "Precision: 0.97\n",
            "Recall: 0.97\n",
            "F1-Score: 0.97\n",
            "Classification Report:\n",
            "                    precision    recall  f1-score   support\n",
            "\n",
            "            LAYING       1.00      1.00      1.00       537\n",
            "           SITTING       0.98      0.89      0.93       491\n",
            "          STANDING       0.91      0.98      0.94       532\n",
            "           WALKING       0.95      0.99      0.97       496\n",
            "WALKING_DOWNSTAIRS       1.00      0.97      0.98       420\n",
            "  WALKING_UPSTAIRS       0.97      0.96      0.97       471\n",
            "\n",
            "          accuracy                           0.97      2947\n",
            "         macro avg       0.97      0.97      0.97      2947\n",
            "      weighted avg       0.97      0.97      0.97      2947\n",
            "\n",
            "Confusion Matrix:\n",
            "[[537   0   0   0   0   0]\n",
            " [  0 435  55   0   0   1]\n",
            " [  0   7 524   1   0   0]\n",
            " [  0   0   0 493   2   1]\n",
            " [  0   0   0   4 406  10]\n",
            " [  0   0   0  19   0 452]]\n"
          ]
        }
      ]
    },
    {
      "cell_type": "code",
      "source": [
        "# Assuming you have label_encoder and y_test is already encoded\n",
        "target_names = list(map(str, label_encoder.classes_))  # Get the target names as strings\n",
        "\n",
        "# Metrics for Precision, Recall, and F1-Score\n",
        "metrics = {\n",
        "    'Precision': precision_score(y_test, y_pred, average=None),\n",
        "    'Recall': recall_score(y_test, y_pred, average=None),\n",
        "    'F1-Score': f1_score(y_test, y_pred, average=None)\n",
        "}\n",
        "\n",
        "# Plot Precision, Recall, and F1-Score\n",
        "x = np.arange(len(target_names))  # Use target_names for x-ticks\n",
        "\n",
        "fig, ax = plt.subplots(figsize=(15, 6))\n",
        "\n",
        "# Using different shades of blue\n",
        "blue_shades = ['#1f77b4', '#4c99d8', '#80bbdf']  # Light to dark shades of blue\n",
        "\n",
        "width = 0.2  # Bar width\n",
        "ax.bar(x - width, metrics['Precision'], width, label='Precision', color=blue_shades[0])\n",
        "ax.bar(x, metrics['Recall'], width, label='Recall', color=blue_shades[1])\n",
        "ax.bar(x + width, metrics['F1-Score'], width, label='F1-Score', color=blue_shades[2])\n",
        "\n",
        "ax.set_xlabel('Classes')\n",
        "ax.set_ylabel('Scores')\n",
        "ax.set_title('Precision, Recall, and F1-Score per Class')\n",
        "ax.set_xticks(x)\n",
        "ax.set_xticklabels(target_names)  # Use target names instead of numeric labels\n",
        "ax.legend()\n",
        "\n",
        "plt.show()\n"
      ],
      "metadata": {
        "id": "eBhIv0ovr93M",
        "colab": {
          "base_uri": "https://localhost:8080/",
          "height": 564
        },
        "outputId": "6e3dc26a-6a00-4c82-a1d3-598bd992d145"
      },
      "execution_count": 28,
      "outputs": [
        {
          "output_type": "display_data",
          "data": {
            "text/plain": [
              "<Figure size 1500x600 with 1 Axes>"
            ],
            "image/png": "[encoded data removed]"
          },
          "metadata": {}
        }
      ]
    },
    {
      "cell_type": "code",
      "source": [
        "# Assuming you have label_encoder and y_test is already encoded\n",
        "target_names = list(map(str, label_encoder.classes_))  # Get the target names as strings\n",
        "\n",
        "# Classification Report\n",
        "report = classification_report(y_test, y_pred, target_names=target_names, output_dict=True)\n",
        "\n",
        "# Convert report to DataFrame for easier visualization\n",
        "report_df = pd.DataFrame(report).transpose()\n",
        "\n",
        "# Plotting Classification Report Heatmap\n",
        "plt.figure(figsize=(10, 6))\n",
        "sns.heatmap(report_df.iloc[:-1, :-1], annot=True, cmap='Blues', fmt='.2f', xticklabels=report_df.columns, yticklabels=report_df.index)\n",
        "plt.title('Classification Report Heatmap')\n",
        "plt.show()\n"
      ],
      "metadata": {
        "id": "INnFKw7OsK8J",
        "colab": {
          "base_uri": "https://localhost:8080/",
          "height": 545
        },
        "outputId": "be562ab0-5a2a-4411-e586-b5a894689388"
      },
      "execution_count": 29,
      "outputs": [
        {
          "output_type": "display_data",
          "data": {
            "text/plain": [
              "<Figure size 1000x600 with 2 Axes>"
            ],
            "image/png": "[encoded data removed]"
          },
          "metadata": {}
        }
      ]
    },
    {
      "cell_type": "code",
      "source": [
        "# Save the entire model\n",
        "model.save('human_activity_recognition_model.h5')\n"
      ],
      "metadata": {
        "id": "kzWjrQJ2peD3",
        "colab": {
          "base_uri": "https://localhost:8080/"
        },
        "outputId": "c6d69e5e-f47e-4743-ca1f-03b01a4b6f59"
      },
      "execution_count": 30,
      "outputs": [
        {
          "output_type": "stream",
          "name": "stderr",
          "text": [
            "WARNING:absl:You are saving your model as an HDF5 file via `model.save()` or `keras.saving.save_model(model)`. This file format is considered legacy. We recommend using instead the native Keras format, e.g. `model.save('my_model.keras')` or `keras.saving.save_model(model, 'my_model.keras')`. \n"
          ]
        }
      ]
    }
  ]
}